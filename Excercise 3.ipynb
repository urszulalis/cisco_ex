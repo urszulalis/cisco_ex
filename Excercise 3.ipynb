{
 "cells": [
  {
   "cell_type": "code",
   "execution_count": 27,
   "metadata": {},
   "outputs": [
    {
     "name": "stdout",
     "output_type": "stream",
     "text": [
      "O E2 10.110.0.0  [160/5] via 10.119.254.6 , 0:01:00, Ethernet2\n",
      "D 10.67.10.0  [200/128] via 10.119.254.244 , 0:02:22, Ethernet2\n",
      "O E2 10.68.132.0  [160/5] via 10.119.254.6 , 0:00:59, Ethernet2\n",
      "O E2 10.130.0.0  [160/5] via 10.119.254.6 , 0:00:59, Ethernet2\n",
      "E 10.128.0.0  [200/128] via 10.119.254.244 , 0:02:22, Ethernet2\n",
      "E 10.129.0.0  [200/129] via 10.119.254.240 , 0:02:22, Ethernet2\n",
      "E 10.65.129.0  [200/128] via 10.119.254.244 , 0:02:22, Ethernet2\n",
      "E 10.10.0.0  [200/128] via 10.119.254.244 , 0:02:22, Ethernet2\n",
      "E 10.75.139.0  [200/129] via 10.119.254.240 , 0:02:23, Ethernet2\n",
      "E 10.16.208.0  [200/128] via 10.119.254.244 , 0:02:22, Ethernet2\n",
      "E 10.84.148.0  [200/129] via 10.119.254.240 , 0:02:23, Ethernet2\n",
      "E 10.31.223.0  [200/128] via 10.119.254.244 , 0:02:22, Ethernet2\n",
      "E 10.44.236.0  [200/129] via 10.119.254.240 , 0:02:23, Ethernet2\n",
      "E 10.141.0.0  [200/129] via 10.119.254.240 , 0:02:22, Ethernet2\n",
      "E 10.140.0.0  [200/129] via 10.119.254.240 , 0:02:23, Ethernet2\n",
      "C 10.69.232.32  255.255.255.240  is directly connected, Ethernet0\n",
      "i L2 10.89.67.0  [115/20] via 10.89.64.240 , 0:00:12, Ethernet0\n",
      "i L2 10.89.66.0  [115/20] via 10.89.64.240 , 0:00:12, Ethernet0\n",
      "H 172.16.99.0  [250/1] via 10.1.1.99 , 00:11:43, Tunnel0\n"
     ]
    }
   ],
   "source": [
    "\n",
    "filepath='ShowIpRoute.txt'\n",
    "with open(filepath) as fp:  \n",
    "    line = fp.readline()\n",
    "    cnt = 1  \n",
    "    while line:\n",
    "        if \"via\" in line or \"directly\" in line :\n",
    "            print(format(line.rstrip())) \n",
    "            cnt += 1\n",
    "        line = fp.readline()\n",
    "fp.close()        \n"
   ]
  },
  {
   "cell_type": "code",
   "execution_count": null,
   "metadata": {
    "collapsed": true
   },
   "outputs": [],
   "source": []
  },
  {
   "cell_type": "code",
   "execution_count": null,
   "metadata": {
    "collapsed": true
   },
   "outputs": [],
   "source": []
  },
  {
   "cell_type": "code",
   "execution_count": null,
   "metadata": {
    "collapsed": true
   },
   "outputs": [],
   "source": []
  },
  {
   "cell_type": "code",
   "execution_count": null,
   "metadata": {
    "collapsed": true
   },
   "outputs": [],
   "source": []
  },
  {
   "cell_type": "code",
   "execution_count": null,
   "metadata": {
    "collapsed": true
   },
   "outputs": [],
   "source": []
  }
 ],
 "metadata": {
  "kernelspec": {
   "display_name": "Python 3",
   "language": "python",
   "name": "python3"
  },
  "language_info": {
   "codemirror_mode": {
    "name": "ipython",
    "version": 3
   },
   "file_extension": ".py",
   "mimetype": "text/x-python",
   "name": "python",
   "nbconvert_exporter": "python",
   "pygments_lexer": "ipython3",
   "version": "3.6.3"
  }
 },
 "nbformat": 4,
 "nbformat_minor": 2
}
