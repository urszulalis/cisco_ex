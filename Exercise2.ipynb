{
 "cells": [
  {
   "cell_type": "code",
   "execution_count": 135,
   "metadata": {},
   "outputs": [
    {
     "name": "stdout",
     "output_type": "stream",
     "text": [
      "switchport trunk allowed vlan 1,3,5,11,25,111,23,8\n",
      "switchport trunk allowed vlan 1,11,5,8,111,100,77,75\n",
      "switchport trunk allowed vlan 5,111,77,88,44,8,112,11,8\n",
      "List_1= [5, 8, 11, 111]\n",
      "List_2= [3, 23, 25, 44, 75, 88, 100, 112]\n"
     ]
    }
   ],
   "source": [
    "import re \n",
    "filepath = 'commands.txt'  \n",
    "\n",
    "def uniquevlans(vlan):\n",
    "    tmp_tab=[]\n",
    "    for i in range(max(vlan)+1):\n",
    "        tmp = vlan.count(i)\n",
    "        #print(\"wystapienie\",i, \"->\",tmp)\n",
    "        if tmp !=0:\n",
    "            tmp2=vlan.index(i)\n",
    "            #print(\"indeks: \",i, \"to\", tmp2)\n",
    "            #print(vlan[tmp2])\n",
    "            tmp_tab.append(vlan[tmp2])\n",
    "    #print(\"unique values in vlan: \",tmp_tab)        \n",
    "    return tmp_tab\n",
    "\n",
    "def valueInEveryVlan (vlan,numb):\n",
    "    tmp_tab=[]\n",
    "    for i in range(max(vlan)+1):\n",
    "        tmp = vlan.count(i)\n",
    "        #print(\"wystapienie\",i, \"->\",tmp)\n",
    "        if tmp>=numb:\n",
    "            tmp2=vlan.index(i)\n",
    "            #print(\"indeks: \",i, \"to\", tmp2)\n",
    "            #print(vlan[tmp2])\n",
    "            tmp_tab.append(vlan[tmp2])\n",
    "    print(\"List_1=\",tmp_tab)        \n",
    "    return tmp_tab\n",
    "\n",
    "def onlyInOneVlan (vlan,numb):\n",
    "    tmp_tab=[]\n",
    "    for i in range(max(vlan)+1):\n",
    "        tmp = vlan.count(i)\n",
    "        #print(\"wystapienie\",i, \"->\",tmp)\n",
    "        if tmp==numb:\n",
    "            tmp2=vlan.index(i)\n",
    "            #print(\"indeks: \",i, \"to\", tmp2)\n",
    "            #print(vlan[tmp2])\n",
    "            tmp_tab.append(vlan[tmp2])\n",
    "    print(\"List_2=\",tmp_tab)        \n",
    "    return tmp_tab\n",
    "    \n",
    "with open(filepath) as fp:  \n",
    "    line = fp.readline()\n",
    "    cnt=1;\n",
    "    all_uniq_matches=[]\n",
    "    all_matches=[]\n",
    "    \n",
    "    while line:\n",
    "        matches =[]\n",
    "        pattern2= re.compile(r'switchport trunk allowed vlan \\d+')\n",
    "        m=re.match(pattern2,line)\n",
    "        if m:\n",
    "            pattern=re.compile( r'\\d+')\n",
    "            matches+=pattern.findall(line)\n",
    "            matches=[int(i) for i in matches]\n",
    "            all_matches+=matches\n",
    "            print(format(line.strip()))\n",
    "            #print(matches)\n",
    "            all_uniq_matches+=uniquevlans(matches)\n",
    "            cnt+=1\n",
    "        line = fp.readline()\n",
    "    valueInEveryVlan(all_uniq_matches,cnt-1) \n",
    "    onlyInOneVlan(all_matches,1)\n",
    "    #print(all_uniq_matches)\n",
    "    #print(all_matches)\n",
    "file.close()    \n",
    "           "
   ]
  },
  {
   "cell_type": "code",
   "execution_count": null,
   "metadata": {
    "collapsed": true
   },
   "outputs": [],
   "source": []
  },
  {
   "cell_type": "code",
   "execution_count": null,
   "metadata": {
    "collapsed": true
   },
   "outputs": [],
   "source": []
  },
  {
   "cell_type": "code",
   "execution_count": null,
   "metadata": {
    "collapsed": true
   },
   "outputs": [],
   "source": []
  },
  {
   "cell_type": "code",
   "execution_count": null,
   "metadata": {
    "collapsed": true
   },
   "outputs": [],
   "source": []
  },
  {
   "cell_type": "code",
   "execution_count": null,
   "metadata": {
    "collapsed": true
   },
   "outputs": [],
   "source": []
  },
  {
   "cell_type": "code",
   "execution_count": null,
   "metadata": {
    "collapsed": true
   },
   "outputs": [],
   "source": []
  },
  {
   "cell_type": "code",
   "execution_count": null,
   "metadata": {
    "collapsed": true
   },
   "outputs": [],
   "source": []
  }
 ],
 "metadata": {
  "kernelspec": {
   "display_name": "Python 3",
   "language": "python",
   "name": "python3"
  },
  "language_info": {
   "codemirror_mode": {
    "name": "ipython",
    "version": 3
   },
   "file_extension": ".py",
   "mimetype": "text/x-python",
   "name": "python",
   "nbconvert_exporter": "python",
   "pygments_lexer": "ipython3",
   "version": "3.6.3"
  }
 },
 "nbformat": 4,
 "nbformat_minor": 2
}
