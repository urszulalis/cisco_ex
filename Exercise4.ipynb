{
 "cells": [
  {
   "cell_type": "code",
   "execution_count": 27,
   "metadata": {},
   "outputs": [
    {
     "name": "stdout",
     "output_type": "stream",
     "text": [
      "Enter interface mode(access/trunk):access\n",
      "Enter interface type and number:f\n",
      "Enter VLAN number:6\n",
      "Interface: f\n",
      "switchport mode access\n",
      "switchport access vlan 6\n",
      "switchport nonegotiate\n",
      "spanning-tree portfast\n",
      "spanning-tree bpduguard enable\n"
     ]
    }
   ],
   "source": [
    "access_template = ['switchport mode access','switchport access vlan {}','switchport nonegotiate','spanning-tree portfast',\n",
    "                   'spanning-tree bpduguard enable']\n",
    "\n",
    "trunk_template = ['switchport trunk encapsulation dot1q','switchport mode trunk','switchport trunk allowed vlan {}']\n",
    "\n",
    "mode_in= input(\"Enter interface mode(access/trunk):\")\n",
    "mode_inter= input('Enter interface type and number:')\n",
    "if mode_in ==\"access\":    \n",
    "    mode_acc_vlan= input(\"Enter VLAN number:\")\n",
    "    print(\"Interface:\",mode_inter)\n",
    "    for i in range (len(access_template)):\n",
    "        if access_template[i]=='switchport access vlan {}' :\n",
    "            print(access_template[i].replace(\"{}\", mode_acc_vlan))\n",
    "        else:\n",
    "            print(access_template[i])        \n",
    "else:\n",
    "    mode_trunk_vlan= input(\"Enter allowed VLAN\") \n",
    "    print(\"Interface:\",mode_inter)\n",
    "    for i in range (len(trunk_template)):\n",
    "        if (trunk_template[i]=='switchport trunk allowed vlan {}'):\n",
    "            print(trunk_template[i].replace(\"{}\", mode_trunk_vlan))\n",
    "        else:\n",
    "            print(trunk_template[i])\n",
    "            \n",
    "       "
   ]
  },
  {
   "cell_type": "code",
   "execution_count": null,
   "metadata": {
    "collapsed": true
   },
   "outputs": [],
   "source": []
  }
 ],
 "metadata": {
  "kernelspec": {
   "display_name": "Python 3",
   "language": "python",
   "name": "python3"
  },
  "language_info": {
   "codemirror_mode": {
    "name": "ipython",
    "version": 3
   },
   "file_extension": ".py",
   "mimetype": "text/x-python",
   "name": "python",
   "nbconvert_exporter": "python",
   "pygments_lexer": "ipython3",
   "version": "3.6.3"
  }
 },
 "nbformat": 4,
 "nbformat_minor": 2
}
